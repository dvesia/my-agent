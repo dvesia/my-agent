{
 "cells": [
  {
   "cell_type": "markdown",
   "metadata": {},
   "source": [
    "# 🧪 ADK Application Testing\n",
    "\n",
    "This notebook demonstrates how to test an ADK (Agent Development Kit) application.\n",
    "It covers both local and remote testing, both with Agent Engine and Cloud Run.\n",
    "\n",
    "> **Note**: This notebook assumes that the agent files are stored in the `app` folder. If your agent files are located in a different directory, please update all relevant file paths and references accordingly."
   ]
  },
  {
   "cell_type": "markdown",
   "metadata": {},
   "source": [
    "## Install dependencies"
   ]
  },
  {
   "cell_type": "code",
   "execution_count": 1,
   "metadata": {},
   "outputs": [
    {
     "name": "stdout",
     "output_type": "stream",
     "text": [
      "Requirement already satisfied: google-cloud-aiplatform in /Users/domenico.vesia/.pyenv/versions/3.12.7/lib/python3.12/site-packages (1.117.0)\n",
      "Collecting google-cloud-aiplatform\n",
      "  Downloading google_cloud_aiplatform-1.118.0-py2.py3-none-any.whl.metadata (43 kB)\n",
      "Requirement already satisfied: google-api-core!=2.0.*,!=2.1.*,!=2.2.*,!=2.3.*,!=2.4.*,!=2.5.*,!=2.6.*,!=2.7.*,<3.0.0,>=1.34.1 in /Users/domenico.vesia/.pyenv/versions/3.12.7/lib/python3.12/site-packages (from google-api-core[grpc]!=2.0.*,!=2.1.*,!=2.2.*,!=2.3.*,!=2.4.*,!=2.5.*,!=2.6.*,!=2.7.*,<3.0.0,>=1.34.1->google-cloud-aiplatform) (2.25.1)\n",
      "Requirement already satisfied: google-auth<3.0.0,>=2.14.1 in /Users/domenico.vesia/.pyenv/versions/3.12.7/lib/python3.12/site-packages (from google-cloud-aiplatform) (2.38.0)\n",
      "Requirement already satisfied: proto-plus<2.0.0,>=1.22.3 in /Users/domenico.vesia/.pyenv/versions/3.12.7/lib/python3.12/site-packages (from google-cloud-aiplatform) (1.26.0)\n",
      "Requirement already satisfied: protobuf!=4.21.0,!=4.21.1,!=4.21.2,!=4.21.3,!=4.21.4,!=4.21.5,<7.0.0,>=3.20.2 in /Users/domenico.vesia/.pyenv/versions/3.12.7/lib/python3.12/site-packages (from google-cloud-aiplatform) (5.29.3)\n",
      "Requirement already satisfied: packaging>=14.3 in /Users/domenico.vesia/.pyenv/versions/3.12.7/lib/python3.12/site-packages (from google-cloud-aiplatform) (24.2)\n",
      "Requirement already satisfied: google-cloud-storage<3.0.0,>=1.32.0 in /Users/domenico.vesia/.pyenv/versions/3.12.7/lib/python3.12/site-packages (from google-cloud-aiplatform) (2.19.0)\n",
      "Requirement already satisfied: google-cloud-bigquery!=3.20.0,<4.0.0,>=1.15.0 in /Users/domenico.vesia/.pyenv/versions/3.12.7/lib/python3.12/site-packages (from google-cloud-aiplatform) (3.29.0)\n",
      "Requirement already satisfied: google-cloud-resource-manager<3.0.0,>=1.3.3 in /Users/domenico.vesia/.pyenv/versions/3.12.7/lib/python3.12/site-packages (from google-cloud-aiplatform) (1.14.0)\n",
      "Requirement already satisfied: shapely<3.0.0 in /Users/domenico.vesia/.pyenv/versions/3.12.7/lib/python3.12/site-packages (from google-cloud-aiplatform) (2.0.7)\n",
      "Requirement already satisfied: google-genai<2.0.0,>=1.37.0 in /Users/domenico.vesia/.pyenv/versions/3.12.7/lib/python3.12/site-packages (from google-cloud-aiplatform) (1.39.1)\n",
      "Requirement already satisfied: pydantic<3 in /Users/domenico.vesia/.pyenv/versions/3.12.7/lib/python3.12/site-packages (from google-cloud-aiplatform) (2.11.9)\n",
      "Requirement already satisfied: typing_extensions in /Users/domenico.vesia/.pyenv/versions/3.12.7/lib/python3.12/site-packages (from google-cloud-aiplatform) (4.12.2)\n",
      "Requirement already satisfied: docstring_parser<1 in /Users/domenico.vesia/.pyenv/versions/3.12.7/lib/python3.12/site-packages (from google-cloud-aiplatform) (0.16)\n",
      "Requirement already satisfied: googleapis-common-protos<2.0.0,>=1.56.2 in /Users/domenico.vesia/.pyenv/versions/3.12.7/lib/python3.12/site-packages (from google-api-core!=2.0.*,!=2.1.*,!=2.2.*,!=2.3.*,!=2.4.*,!=2.5.*,!=2.6.*,!=2.7.*,<3.0.0,>=1.34.1->google-api-core[grpc]!=2.0.*,!=2.1.*,!=2.2.*,!=2.3.*,!=2.4.*,!=2.5.*,!=2.6.*,!=2.7.*,<3.0.0,>=1.34.1->google-cloud-aiplatform) (1.67.0)\n",
      "Requirement already satisfied: requests<3.0.0,>=2.18.0 in /Users/domenico.vesia/.pyenv/versions/3.12.7/lib/python3.12/site-packages (from google-api-core!=2.0.*,!=2.1.*,!=2.2.*,!=2.3.*,!=2.4.*,!=2.5.*,!=2.6.*,!=2.7.*,<3.0.0,>=1.34.1->google-api-core[grpc]!=2.0.*,!=2.1.*,!=2.2.*,!=2.3.*,!=2.4.*,!=2.5.*,!=2.6.*,!=2.7.*,<3.0.0,>=1.34.1->google-cloud-aiplatform) (2.32.5)\n",
      "Requirement already satisfied: grpcio<2.0.0,>=1.33.2 in /Users/domenico.vesia/.pyenv/versions/3.12.7/lib/python3.12/site-packages (from google-api-core[grpc]!=2.0.*,!=2.1.*,!=2.2.*,!=2.3.*,!=2.4.*,!=2.5.*,!=2.6.*,!=2.7.*,<3.0.0,>=1.34.1->google-cloud-aiplatform) (1.70.0)\n",
      "Requirement already satisfied: grpcio-status<2.0.0,>=1.33.2 in /Users/domenico.vesia/.pyenv/versions/3.12.7/lib/python3.12/site-packages (from google-api-core[grpc]!=2.0.*,!=2.1.*,!=2.2.*,!=2.3.*,!=2.4.*,!=2.5.*,!=2.6.*,!=2.7.*,<3.0.0,>=1.34.1->google-cloud-aiplatform) (1.70.0)\n",
      "Requirement already satisfied: cachetools<6.0,>=2.0.0 in /Users/domenico.vesia/.pyenv/versions/3.12.7/lib/python3.12/site-packages (from google-auth<3.0.0,>=2.14.1->google-cloud-aiplatform) (5.5.1)\n",
      "Requirement already satisfied: pyasn1-modules>=0.2.1 in /Users/domenico.vesia/.pyenv/versions/3.12.7/lib/python3.12/site-packages (from google-auth<3.0.0,>=2.14.1->google-cloud-aiplatform) (0.4.1)\n",
      "Requirement already satisfied: rsa<5,>=3.1.4 in /Users/domenico.vesia/.pyenv/versions/3.12.7/lib/python3.12/site-packages (from google-auth<3.0.0,>=2.14.1->google-cloud-aiplatform) (4.9)\n",
      "Requirement already satisfied: google-cloud-core<3.0.0dev,>=2.4.1 in /Users/domenico.vesia/.pyenv/versions/3.12.7/lib/python3.12/site-packages (from google-cloud-bigquery!=3.20.0,<4.0.0,>=1.15.0->google-cloud-aiplatform) (2.4.3)\n",
      "Requirement already satisfied: google-resumable-media<3.0dev,>=2.0.0 in /Users/domenico.vesia/.pyenv/versions/3.12.7/lib/python3.12/site-packages (from google-cloud-bigquery!=3.20.0,<4.0.0,>=1.15.0->google-cloud-aiplatform) (2.7.2)\n",
      "Requirement already satisfied: python-dateutil<3.0dev,>=2.7.3 in /Users/domenico.vesia/.pyenv/versions/3.12.7/lib/python3.12/site-packages (from google-cloud-bigquery!=3.20.0,<4.0.0,>=1.15.0->google-cloud-aiplatform) (2.9.0.post0)\n",
      "Requirement already satisfied: grpc-google-iam-v1<1.0.0dev,>=0.12.4 in /Users/domenico.vesia/.pyenv/versions/3.12.7/lib/python3.12/site-packages (from google-cloud-resource-manager<3.0.0,>=1.3.3->google-cloud-aiplatform) (0.14.0)\n",
      "Requirement already satisfied: google-crc32c<2.0dev,>=1.0 in /Users/domenico.vesia/.pyenv/versions/3.12.7/lib/python3.12/site-packages (from google-cloud-storage<3.0.0,>=1.32.0->google-cloud-aiplatform) (1.6.0)\n",
      "Requirement already satisfied: anyio<5.0.0,>=4.8.0 in /Users/domenico.vesia/.pyenv/versions/3.12.7/lib/python3.12/site-packages (from google-genai<2.0.0,>=1.37.0->google-cloud-aiplatform) (4.11.0)\n",
      "Requirement already satisfied: httpx<1.0.0,>=0.28.1 in /Users/domenico.vesia/.pyenv/versions/3.12.7/lib/python3.12/site-packages (from google-genai<2.0.0,>=1.37.0->google-cloud-aiplatform) (0.28.1)\n",
      "Requirement already satisfied: tenacity<9.2.0,>=8.2.3 in /Users/domenico.vesia/.pyenv/versions/3.12.7/lib/python3.12/site-packages (from google-genai<2.0.0,>=1.37.0->google-cloud-aiplatform) (8.5.0)\n",
      "Requirement already satisfied: websockets<15.1.0,>=13.0.0 in /Users/domenico.vesia/.pyenv/versions/3.12.7/lib/python3.12/site-packages (from google-genai<2.0.0,>=1.37.0->google-cloud-aiplatform) (15.0.1)\n",
      "Requirement already satisfied: annotated-types>=0.6.0 in /Users/domenico.vesia/.pyenv/versions/3.12.7/lib/python3.12/site-packages (from pydantic<3->google-cloud-aiplatform) (0.7.0)\n",
      "Requirement already satisfied: pydantic-core==2.33.2 in /Users/domenico.vesia/.pyenv/versions/3.12.7/lib/python3.12/site-packages (from pydantic<3->google-cloud-aiplatform) (2.33.2)\n",
      "Requirement already satisfied: typing-inspection>=0.4.0 in /Users/domenico.vesia/.pyenv/versions/3.12.7/lib/python3.12/site-packages (from pydantic<3->google-cloud-aiplatform) (0.4.0)\n",
      "Requirement already satisfied: numpy<3,>=1.14 in /Users/domenico.vesia/.pyenv/versions/3.12.7/lib/python3.12/site-packages (from shapely<3.0.0->google-cloud-aiplatform) (2.2.2)\n",
      "Requirement already satisfied: idna>=2.8 in /Users/domenico.vesia/.pyenv/versions/3.12.7/lib/python3.12/site-packages (from anyio<5.0.0,>=4.8.0->google-genai<2.0.0,>=1.37.0->google-cloud-aiplatform) (3.10)\n",
      "Requirement already satisfied: sniffio>=1.1 in /Users/domenico.vesia/.pyenv/versions/3.12.7/lib/python3.12/site-packages (from anyio<5.0.0,>=4.8.0->google-genai<2.0.0,>=1.37.0->google-cloud-aiplatform) (1.3.1)\n",
      "Requirement already satisfied: certifi in /Users/domenico.vesia/.pyenv/versions/3.12.7/lib/python3.12/site-packages (from httpx<1.0.0,>=0.28.1->google-genai<2.0.0,>=1.37.0->google-cloud-aiplatform) (2025.1.31)\n",
      "Requirement already satisfied: httpcore==1.* in /Users/domenico.vesia/.pyenv/versions/3.12.7/lib/python3.12/site-packages (from httpx<1.0.0,>=0.28.1->google-genai<2.0.0,>=1.37.0->google-cloud-aiplatform) (1.0.7)\n",
      "Requirement already satisfied: h11<0.15,>=0.13 in /Users/domenico.vesia/.pyenv/versions/3.12.7/lib/python3.12/site-packages (from httpcore==1.*->httpx<1.0.0,>=0.28.1->google-genai<2.0.0,>=1.37.0->google-cloud-aiplatform) (0.14.0)\n",
      "Requirement already satisfied: pyasn1<0.7.0,>=0.4.6 in /Users/domenico.vesia/.pyenv/versions/3.12.7/lib/python3.12/site-packages (from pyasn1-modules>=0.2.1->google-auth<3.0.0,>=2.14.1->google-cloud-aiplatform) (0.6.1)\n",
      "Requirement already satisfied: six>=1.5 in /Users/domenico.vesia/.pyenv/versions/3.12.7/lib/python3.12/site-packages (from python-dateutil<3.0dev,>=2.7.3->google-cloud-bigquery!=3.20.0,<4.0.0,>=1.15.0->google-cloud-aiplatform) (1.17.0)\n",
      "Requirement already satisfied: charset_normalizer<4,>=2 in /Users/domenico.vesia/.pyenv/versions/3.12.7/lib/python3.12/site-packages (from requests<3.0.0,>=2.18.0->google-api-core!=2.0.*,!=2.1.*,!=2.2.*,!=2.3.*,!=2.4.*,!=2.5.*,!=2.6.*,!=2.7.*,<3.0.0,>=1.34.1->google-api-core[grpc]!=2.0.*,!=2.1.*,!=2.2.*,!=2.3.*,!=2.4.*,!=2.5.*,!=2.6.*,!=2.7.*,<3.0.0,>=1.34.1->google-cloud-aiplatform) (3.4.1)\n",
      "Requirement already satisfied: urllib3<3,>=1.21.1 in /Users/domenico.vesia/.pyenv/versions/3.12.7/lib/python3.12/site-packages (from requests<3.0.0,>=2.18.0->google-api-core!=2.0.*,!=2.1.*,!=2.2.*,!=2.3.*,!=2.4.*,!=2.5.*,!=2.6.*,!=2.7.*,<3.0.0,>=1.34.1->google-api-core[grpc]!=2.0.*,!=2.1.*,!=2.2.*,!=2.3.*,!=2.4.*,!=2.5.*,!=2.6.*,!=2.7.*,<3.0.0,>=1.34.1->google-cloud-aiplatform) (2.3.0)\n",
      "Downloading google_cloud_aiplatform-1.118.0-py2.py3-none-any.whl (8.0 MB)\n",
      "\u001b[2K   \u001b[38;2;114;156;31m━━━━━━━━━━━━━━━━━━━━━━━━━━━━━━━━━━━━━━━━\u001b[0m \u001b[32m8.0/8.0 MB\u001b[0m \u001b[31m4.2 MB/s\u001b[0m eta \u001b[36m0:00:00\u001b[0m[31m4.2 MB/s\u001b[0m eta \u001b[36m0:00:01\u001b[0m\n",
      "\u001b[?25hInstalling collected packages: google-cloud-aiplatform\n",
      "  Attempting uninstall: google-cloud-aiplatform\n",
      "    Found existing installation: google-cloud-aiplatform 1.117.0\n",
      "    Uninstalling google-cloud-aiplatform-1.117.0:\n",
      "      Successfully uninstalled google-cloud-aiplatform-1.117.0\n",
      "Successfully installed google-cloud-aiplatform-1.118.0\n",
      "\n",
      "\u001b[1m[\u001b[0m\u001b[34;49mnotice\u001b[0m\u001b[1;39;49m]\u001b[0m\u001b[39;49m A new release of pip is available: \u001b[0m\u001b[31;49m24.2\u001b[0m\u001b[39;49m -> \u001b[0m\u001b[32;49m25.2\u001b[0m\n",
      "\u001b[1m[\u001b[0m\u001b[34;49mnotice\u001b[0m\u001b[1;39;49m]\u001b[0m\u001b[39;49m To update, run: \u001b[0m\u001b[32;49mpip install --upgrade pip\u001b[0m\n"
     ]
    }
   ],
   "source": [
    "! pip install google-cloud-aiplatform --upgrade"
   ]
  },
  {
   "cell_type": "markdown",
   "metadata": {},
   "source": [
    "### Import libraries"
   ]
  },
  {
   "cell_type": "code",
   "execution_count": 1,
   "metadata": {},
   "outputs": [],
   "source": [
    "import json\n",
    "\n",
    "import requests\n",
    "import vertexai"
   ]
  },
  {
   "cell_type": "markdown",
   "metadata": {},
   "source": [
    "### Initialize Vertex AI Client"
   ]
  },
  {
   "cell_type": "code",
   "execution_count": 2,
   "metadata": {},
   "outputs": [],
   "source": [
    "# Initialize the Vertex AI client\n",
    "LOCATION = \"us-central1\"\n",
    "\n",
    "client = vertexai.Client(\n",
    "    location=LOCATION,\n",
    ")"
   ]
  },
  {
   "cell_type": "markdown",
   "metadata": {},
   "source": [
    "## If you are using Agent Engine\n",
    "See more documentation at [Agent Engine Overview](https://cloud.google.com/vertex-ai/generative-ai/docs/agent-engine/overview)"
   ]
  },
  {
   "cell_type": "markdown",
   "metadata": {},
   "source": [
    "### Remote Testing"
   ]
  },
  {
   "cell_type": "code",
   "execution_count": 3,
   "metadata": {},
   "outputs": [
    {
     "name": "stdout",
     "output_type": "stream",
     "text": [
      "Using REASONING_ENGINE_ID: projects/218409470843/locations/us-central1/reasoningEngines/2099332735284805632\n"
     ]
    }
   ],
   "source": [
    "# Set to None to auto-detect from ./deployment_metadata.json, or specify manually\n",
    "# \"projects/PROJECT_ID/locations/us-central1/reasoningEngines/ENGINE_ID\"\n",
    "REASONING_ENGINE_ID = None\n",
    "\n",
    "if REASONING_ENGINE_ID is None:\n",
    "    try:\n",
    "        with open(\"../deployment_metadata.json\") as f:\n",
    "            metadata = json.load(f)\n",
    "            REASONING_ENGINE_ID = metadata.get(\"remote_agent_engine_id\")\n",
    "    except (FileNotFoundError, json.JSONDecodeError):\n",
    "        pass\n",
    "\n",
    "print(f\"Using REASONING_ENGINE_ID: {REASONING_ENGINE_ID}\")\n",
    "# Get the existing agent engine\n",
    "remote_agent_engine = client.agent_engines.get(name=REASONING_ENGINE_ID)"
   ]
  },
  {
   "cell_type": "code",
   "execution_count": 31,
   "metadata": {},
   "outputs": [
    {
     "name": "stdout",
     "output_type": "stream",
     "text": [
      "{'content': {'parts': [{'thought_signature': 'CsYCAR_MhbYOHL8ttg83tZjid8u-zW3wLhEQD5h8T8wmkMUVwkPea38NuGkQLqyBB_cBxYCpC9m7ZYzWNRr8CwyVhkMkGsQ8BH3RbIaIYSNuCfU5liIWkv6HLf4HjmRQ1XX9573lCcr2bVB5jspj_pt8m3PFa-IhHq-95G4vE4-crZCeZLtVlpR8VegPaBKvhhU3fAbF7Sx4LOebtDDDHYO9mQbdDlaCif5w36fYq0Q-YV3LdKY-uQbiH26IBOjeLC7fKMzcAiIdgqh9StXk1Y2uO05jrfCzJze0--Lg4-NZgPhkJRUml0L4sNHEOlTLu8U3scV2EaT15CKDH0O71iQUnGwZ0NgENElOUcceKEcR8JHkMzqRrSdCWA2IMJn_f4EgdrS9M9dLmMsnfghjTl-57QUuS9es1hiIRK5v146ld0yRbOqEQBE=', 'text': 'Hello! I can definitely help you analyze \"Attention Is All You Need, Vaswani et al., 2017 (Published at NIPS 2017)\".\\n\\nTo begin, please provide the seminal paper as a PDF. Once I have the PDF, I will analyze it and present the extracted information.'}], 'role': 'model'}, 'finish_reason': 'STOP', 'usage_metadata': {'candidates_token_count': 65, 'candidates_tokens_details': [{'modality': 'TEXT', 'token_count': 65}], 'prompt_token_count': 846, 'prompt_tokens_details': [{'modality': 'TEXT', 'token_count': 846}], 'thoughts_token_count': 67, 'total_token_count': 978, 'traffic_type': 'ON_DEMAND'}, 'invocation_id': 'e-1eb448ab-2b27-4b98-bbd9-4ee65a0f49cb', 'author': 'academic_coordinator', 'actions': {'state_delta': {'seminal_paper': 'Hello! I can definitely help you analyze \"Attention Is All You Need, Vaswani et al., 2017 (Published at NIPS 2017)\".\\n\\nTo begin, please provide the seminal paper as a PDF. Once I have the PDF, I will analyze it and present the extracted information.'}, 'artifact_delta': {}, 'requested_auth_configs': {}, 'requested_tool_confirmations': {}}, 'id': '6e48a06d-cc1a-4953-992c-53ee7f74cfd8', 'timestamp': 1759423705.113654}\n"
     ]
    }
   ],
   "source": [
    "async for event in remote_agent_engine.async_stream_query(\n",
    "    message=\"Can you analyze Seminal Paper: Attention Is All You Need, Vaswani et al., 2017 (Published at NIPS 2017)'?\", user_id=\"test\"\n",
    "):\n",
    "    print(event)"
   ]
  },
  {
   "cell_type": "code",
   "execution_count": 6,
   "metadata": {},
   "outputs": [],
   "source": [
    "remote_agent_engine.register_feedback(\n",
    "    feedback={\n",
    "        \"score\": 5,\n",
    "        \"text\": \"Great response!\",\n",
    "        \"invocation_id\": \"test-invocation-123\",\n",
    "        \"user_id\": \"test\",\n",
    "    }\n",
    ")"
   ]
  },
  {
   "cell_type": "markdown",
   "metadata": {},
   "source": [
    "### Local Testing\n",
    "\n",
    "You can import directly the AgentEngineApp class within your environment. \n",
    "To run the agent locally, follow these steps:\n",
    "1. Make sure all required packages are installed in your environment\n",
    "2. The recommended approach is to use the same virtual environment created by the 'uv' tool\n",
    "3. You can set up this environment by running 'make install' from your agent's root directory\n",
    "4. Then select this kernel (.venv folder in your project) in your Jupyter notebook to ensure all dependencies are available"
   ]
  },
  {
   "cell_type": "code",
   "execution_count": null,
   "metadata": {},
   "outputs": [],
   "source": [
    "# Uncomment the following lines if you're not using the virtual environment created by uv\n",
    "# import sys\n",
    "# sys.path.append(\"../\")"
   ]
  },
  {
   "cell_type": "code",
   "execution_count": null,
   "metadata": {},
   "outputs": [],
   "source": [
    "from app.agent import root_agent\n",
    "from app.agent_engine_app import AgentEngineApp\n",
    "\n",
    "agent_engine = AgentEngineApp(agent=root_agent)"
   ]
  },
  {
   "cell_type": "code",
   "execution_count": null,
   "metadata": {},
   "outputs": [],
   "source": [
    "async for event in agent_engine.async_stream_query(message=\"hi!\", user_id=\"test\"):\n",
    "    print(event)"
   ]
  },
  {
   "cell_type": "markdown",
   "metadata": {},
   "source": [
    "## If you are using Cloud Run"
   ]
  },
  {
   "cell_type": "markdown",
   "metadata": {},
   "source": [
    "#### Remote Testing\n",
    "\n",
    "For more information about authenticating HTTPS requests to Cloud Run services, see:\n",
    "[Cloud Run Authentication Documentation](https://cloud.google.com/run/docs/triggering/https-request)\n",
    "\n",
    "Remote testing involves using a deployed service URL instead of localhost.\n",
    "\n",
    "Authentication is handled using GCP identity tokens instead of local credentials."
   ]
  },
  {
   "cell_type": "code",
   "execution_count": null,
   "metadata": {},
   "outputs": [],
   "source": [
    "ID_TOKEN = get_ipython().getoutput(\"gcloud auth print-identity-token -q\")[0]"
   ]
  },
  {
   "cell_type": "code",
   "execution_count": null,
   "metadata": {},
   "outputs": [],
   "source": [
    "SERVICE_URL = \"YOUR_SERVICE_URL_HERE\"  # Replace with your Cloud Run service URL"
   ]
  },
  {
   "cell_type": "markdown",
   "metadata": {},
   "source": [
    "You'll need to first create a Session"
   ]
  },
  {
   "cell_type": "code",
   "execution_count": null,
   "metadata": {},
   "outputs": [],
   "source": [
    "user_id = \"test_user_123\"\n",
    "session_data = {\"state\": {\"preferred_language\": \"English\", \"visit_count\": 1}}\n",
    "\n",
    "session_url = f\"{SERVICE_URL}/apps/app/users/{user_id}/sessions\"\n",
    "headers = {\"Content-Type\": \"application/json\", \"Authorization\": f\"Bearer {ID_TOKEN}\"}\n",
    "\n",
    "session_response = requests.post(session_url, headers=headers, json=session_data)\n",
    "print(f\"Session creation status code: {session_response.status_code}\")\n",
    "print(f\"Session creation response: {session_response.json()}\")\n",
    "session_id = session_response.json()[\"id\"]"
   ]
  },
  {
   "cell_type": "markdown",
   "metadata": {},
   "source": [
    "Then you will be able to send a message"
   ]
  },
  {
   "cell_type": "code",
   "execution_count": null,
   "metadata": {},
   "outputs": [],
   "source": [
    "message_data = {\n",
    "    \"app_name\": \"app\",\n",
    "    \"user_id\": user_id,\n",
    "    \"session_id\": session_id,\n",
    "    \"new_message\": {\"role\": \"user\", \"parts\": [{\"text\": \"Hello! Weather in New york?\"}]},\n",
    "    \"streaming\": True,\n",
    "}\n",
    "\n",
    "message_url = f\"{SERVICE_URL}/run_sse\"\n",
    "message_response = requests.post(\n",
    "    message_url, headers=headers, json=message_data, stream=True\n",
    ")\n",
    "\n",
    "print(f\"Message send status code: {message_response.status_code}\")\n",
    "\n",
    "# Print streamed response\n",
    "for line in message_response.iter_lines():\n",
    "    if line:\n",
    "        line_str = line.decode(\"utf-8\")\n",
    "        if line_str.startswith(\"data: \"):\n",
    "            event_json = line_str[6:]\n",
    "            event = json.loads(event_json)\n",
    "            print(f\"Received event: {event}\")"
   ]
  },
  {
   "cell_type": "markdown",
   "metadata": {},
   "source": [
    "### Local Testing\n",
    "\n",
    "> You can run the application locally via the `make local-backend` command."
   ]
  },
  {
   "cell_type": "markdown",
   "metadata": {},
   "source": [
    "#### Create a session\n",
    " Create a new session with user preferences and state information\n"
   ]
  },
  {
   "cell_type": "code",
   "execution_count": null,
   "metadata": {},
   "outputs": [],
   "source": [
    "user_id = \"test_user_123\"\n",
    "session_data = {\"state\": {\"preferred_language\": \"English\", \"visit_count\": 1}}\n",
    "\n",
    "session_url = f\"http://127.0.0.1:8000/apps/app/users/{user_id}/sessions\"\n",
    "headers = {\"Content-Type\": \"application/json\"}\n",
    "\n",
    "session_response = requests.post(session_url, headers=headers, json=session_data)\n",
    "print(f\"Session creation status code: {session_response.status_code}\")\n",
    "print(f\"Session creation response: {session_response.json()}\")\n",
    "session_id = session_response.json()[\"id\"]"
   ]
  },
  {
   "cell_type": "markdown",
   "metadata": {},
   "source": [
    "#### Send a message\n",
    "Send a message to the backend service and receive a streaming response\n"
   ]
  },
  {
   "cell_type": "code",
   "execution_count": null,
   "metadata": {},
   "outputs": [],
   "source": [
    "message_data = {\n",
    "    \"app_name\": \"app\",\n",
    "    \"user_id\": user_id,\n",
    "    \"session_id\": session_id,\n",
    "    \"new_message\": {\"role\": \"user\", \"parts\": [{\"text\": \"Hello! Weather in New york?\"}]},\n",
    "    \"streaming\": True,\n",
    "}\n",
    "\n",
    "message_url = \"http://127.0.0.1:8000/run_sse\"\n",
    "message_response = requests.post(\n",
    "    message_url, headers=headers, json=message_data, stream=True\n",
    ")\n",
    "\n",
    "print(f\"Message send status code: {message_response.status_code}\")\n",
    "\n",
    "# Print streamed response\n",
    "for line in message_response.iter_lines():\n",
    "    if line:\n",
    "        line_str = line.decode(\"utf-8\")\n",
    "        if line_str.startswith(\"data: \"):\n",
    "            event_json = line_str[6:]\n",
    "            event = json.loads(event_json)\n",
    "            print(f\"Received event: {event}\")"
   ]
  }
 ],
 "metadata": {
  "kernelspec": {
   "display_name": ".venv",
   "language": "python",
   "name": "python3"
  },
  "language_info": {
   "codemirror_mode": {
    "name": "ipython",
    "version": 3
   },
   "file_extension": ".py",
   "mimetype": "text/x-python",
   "name": "python",
   "nbconvert_exporter": "python",
   "pygments_lexer": "ipython3",
   "version": "3.12.7"
  }
 },
 "nbformat": 4,
 "nbformat_minor": 2
}
